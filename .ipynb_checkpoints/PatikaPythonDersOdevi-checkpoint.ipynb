{
 "cells": [
  {
   "cell_type": "code",
   "execution_count": 1,
   "id": "c4bf6e84-09f4-49c2-817f-76bf5396130a",
   "metadata": {},
   "outputs": [],
   "source": [
    "#1- Bir listeyi düzleştiren (flatten) fonksiyon yazın. Elemanları birden çok katmanlı listelerden ([[3],2] gibi) oluşabileceği gibi, non-scalar verilerden de oluşabilir. Örnek olarak:\n",
    "\n",
    "#input: [[1,'a',['cat'],2],[[[3]],'dog'],4,5]\n",
    "\n",
    "#output: [1,'a','cat',2,3,'dog',4,5]"
   ]
  },
  {
   "cell_type": "code",
   "execution_count": 12,
   "id": "78b7faea-1f2e-4da3-ab6b-29614eeda697",
   "metadata": {},
   "outputs": [
    {
     "name": "stdout",
     "output_type": "stream",
     "text": [
      "[1, 'a', 'cat', 2, 3, 'dog', 4, 5]\n"
     ]
    }
   ],
   "source": [
    "def flatten(input_list):\n",
    "    flattened = []\n",
    "    stack = list(reversed(input_list))\n",
    "\n",
    "    while stack:\n",
    "        item = stack.pop()\n",
    "        if isinstance (item, list):\n",
    "            stack.extend(reversed(item))\n",
    "        else:\n",
    "            flattened.append(item)\n",
    "\n",
    "    return flattened\n",
    "\n",
    "input_data = [[1,'a',['cat'],2],[[[3]],'dog'],4,5]\n",
    "output_data = flatten(input_data)\n",
    "\n",
    "print(output_data)"
   ]
  },
  {
   "cell_type": "code",
   "execution_count": null,
   "id": "c79ca226-033b-44ac-8d4a-1df03caed8a3",
   "metadata": {},
   "outputs": [],
   "source": [
    "#2- Verilen listenin içindeki elemanları tersine döndüren bir fonksiyon yazın. Eğer listenin içindeki elemanlar da liste içeriyorsa onların elemanlarını da tersine döndürün. Örnek olarak:\n",
    "\n",
    "#input: [[1, 2], [3, 4], [5, 6, 7]]\n",
    "\n",
    "#output: [[[7, 6, 5], [4, 3], [2, 1]]"
   ]
  },
  {
   "cell_type": "code",
   "execution_count": 16,
   "id": "14c75b9f-172e-4fb9-a71c-1a233e29c13b",
   "metadata": {},
   "outputs": [
    {
     "name": "stdout",
     "output_type": "stream",
     "text": [
      "[[7, 6, 5], [4, 3], [2, 1]]\n"
     ]
    }
   ],
   "source": [
    "def reversed_func(input_list):\n",
    "    reversed_list = []\n",
    "    \n",
    "    for item in reversed(input_list):\n",
    "        if isinstance(item, list):\n",
    "            reversed_list.append(reversed_func(item))\n",
    "        else:\n",
    "            reversed_list.append(item)\n",
    "    return reversed_list\n",
    "\n",
    "input_data = [[1, 2], [3, 4], [5, 6, 7]]\n",
    "\n",
    "output_data = reversed_func(input_data)\n",
    "\n",
    "print(output_data)"
   ]
  },
  {
   "cell_type": "code",
   "execution_count": null,
   "id": "d74ca936-7629-4e3d-96de-73bd21852526",
   "metadata": {},
   "outputs": [],
   "source": []
  }
 ],
 "metadata": {
  "kernelspec": {
   "display_name": "Python (PatikaEnv)",
   "language": "python",
   "name": "patikaenv"
  },
  "language_info": {
   "codemirror_mode": {
    "name": "ipython",
    "version": 3
   },
   "file_extension": ".py",
   "mimetype": "text/x-python",
   "name": "python",
   "nbconvert_exporter": "python",
   "pygments_lexer": "ipython3",
   "version": "3.13.2"
  }
 },
 "nbformat": 4,
 "nbformat_minor": 5
}
